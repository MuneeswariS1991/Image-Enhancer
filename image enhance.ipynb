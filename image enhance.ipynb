{
 "cells": [
  {
   "cell_type": "code",
   "execution_count": 2,
   "metadata": {},
   "outputs": [],
   "source": [
    "from PIL import Image, ImageEnhance\n",
    "\n",
    "im = Image.open(\"D:/IRDE/frame.jpg\")\n",
    "\n",
    "enhancer = ImageEnhance.Sharpness(im)\n",
    "\n",
    "factor = 5\n",
    "im_s_1 = enhancer.enhance(factor)\n",
    "im_s_1.save('D:/IRDE/frame_1.jpg');\n",
    "\n",
    "factor = 5\n",
    "im_s_1 = enhancer.enhance(factor)\n",
    "im_s_1.save('D:/IRDE/frame_2.jpg');\n",
    "\n",
    "factor = 5\n",
    "im_s_1 = enhancer.enhance(factor)\n",
    "im_s_1.save('D:/IRDE/frame_3.jpg');"
   ]
  },
  {
   "cell_type": "code",
   "execution_count": null,
   "metadata": {},
   "outputs": [],
   "source": []
  }
 ],
 "metadata": {
  "kernelspec": {
   "display_name": "Python 3",
   "language": "python",
   "name": "python3"
  },
  "language_info": {
   "codemirror_mode": {
    "name": "ipython",
    "version": 3
   },
   "file_extension": ".py",
   "mimetype": "text/x-python",
   "name": "python",
   "nbconvert_exporter": "python",
   "pygments_lexer": "ipython3",
   "version": "3.7.6"
  }
 },
 "nbformat": 4,
 "nbformat_minor": 4
}
